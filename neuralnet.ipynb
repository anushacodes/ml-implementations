{
  "nbformat": 4,
  "nbformat_minor": 0,
  "metadata": {
    "colab": {
      "provenance": [],
      "authorship_tag": "ABX9TyMisbIxcf93l44zVZf5HLoJ",
      "include_colab_link": true
    },
    "kernelspec": {
      "name": "python3",
      "display_name": "Python 3"
    },
    "language_info": {
      "name": "python"
    }
  },
  "cells": [
    {
      "cell_type": "markdown",
      "metadata": {
        "id": "view-in-github",
        "colab_type": "text"
      },
      "source": [
        "<a href=\"https://colab.research.google.com/github/anushacodes/ml-implementations/blob/main/neuralnet.ipynb\" target=\"_parent\"><img src=\"https://colab.research.google.com/assets/colab-badge.svg\" alt=\"Open In Colab\"/></a>"
      ]
    },
    {
      "cell_type": "code",
      "execution_count": 27,
      "metadata": {
        "id": "5s5dflvLBpX0"
      },
      "outputs": [],
      "source": [
        "import numpy as np\n",
        "import random"
      ]
    },
    {
      "cell_type": "markdown",
      "source": [
        "Initialize weights and biases\n"
      ],
      "metadata": {
        "id": "-s2hXUlOFvS1"
      }
    },
    {
      "cell_type": "code",
      "source": [
        "class NeuralNetwork():\n",
        "\n",
        "\n",
        "  def __init__(self, input_size, hidden_size, output_size, activation = \"relu\"):\n",
        "\n",
        "        self.input_size = input_size\n",
        "        self.output_size = output_size\n",
        "        self.hidden_size = hidden_size\n",
        "\n",
        "        self.weights1 = np.random.randn(input_size, hidden_size)\n",
        "        self.bias1 = np.random.randn(1, hidden_size)\n",
        "\n",
        "        self.weights2 = np.random.randn(hidden_size, output_size)\n",
        "        self.bias2 = np.random.randn(1, output_size)\n",
        "\n",
        "\n",
        "        if activation == \"sigmoid\":\n",
        "            self.activation = self.sigmoid\n",
        "            self.activation_deriv = self.sigmoid_deriv\n",
        "        elif activation == \"tanh\":\n",
        "            self.activation = self.tanh\n",
        "            self.activation_deriv = self.tanh_deriv\n",
        "        elif activation == \"relu\":\n",
        "            self.activation = self.relu\n",
        "            self.activation_deriv = self.relu_deriv\n",
        "        else:\n",
        "            raise ValueError(\"Invalid. Choose 'sigmoid', 'tanh', or 'relu'.\")\n",
        "\n",
        "\n",
        "  @staticmethod\n",
        "  def sigmoid(x):\n",
        "      return 1 / (1 + np.exp(-x))\n",
        "\n",
        "  @staticmethod\n",
        "  def sigmoid_deriv(x):\n",
        "      return x * (1 - x)\n",
        "\n",
        "  @staticmethod\n",
        "  def tanh(x):\n",
        "      return np.tanh(x)\n",
        "\n",
        "  @staticmethod\n",
        "  def tanh_deriv(x):\n",
        "      return 1 - np.tanh(x) ** 2\n",
        "\n",
        "  @staticmethod\n",
        "  def relu(x):\n",
        "      return np.maximum(0, x)\n",
        "\n",
        "  @staticmethod\n",
        "  def relu_deriv(x):\n",
        "      return np.where(x > 0, 1, 0)\n",
        "\n",
        "  @staticmethod\n",
        "  def mse(y, y_pred):\n",
        "      return np.mean(np.square(y - y_pred))\n",
        "\n",
        "\n",
        "\n",
        "\n",
        "  def forward(self, x):\n",
        "\n",
        "          self.z1 = np.dot(x, self.weights1) + self.bias1\n",
        "          self.a1 = self.activation(self.z1)\n",
        "\n",
        "          self.z2 = np.dot(self.a1, self.weights2) + self.bias2\n",
        "          self.a2 = self.activation(self.z2)\n",
        "\n",
        "          return self.a2\n",
        "\n",
        "\n",
        "  def backward(self, x, y, output, learning_rate):\n",
        "\n",
        "        error1 = y - self.a2\n",
        "        delta1 = error1 * self.activation_deriv(self.a2)\n",
        "\n",
        "        self.weights2 += np.dot(self.a1.T, delta1) * learning_rate\n",
        "        self.bias2 += np.sum(delta1, axis=0, keepdims=True) * learning_rate\n",
        "\n",
        "        error2 = np.dot(delta1, self.weights2.T)\n",
        "        delta2 = error2 * self.activation_deriv(self.a1)\n",
        "\n",
        "        self.weights1 += np.dot(x.T, delta2) * learning_rate\n",
        "        self.bias1 += np.sum(delta2, axis=0, keepdims=True) * learning_rate\n",
        "\n",
        "\n",
        "  def train(self, x, y, epochs, learning_rate):\n",
        "          for i in range(epochs):\n",
        "              output = self.forward(x)\n",
        "              self.backward(x, y, output, learning_rate)\n",
        "\n",
        "              if (i + 1) % 1000 == 0:\n",
        "                  loss = self.mse(y, output)\n",
        "                  print(f\"Epoch {i+1}/{epochs} - Loss: {loss}\")"
      ],
      "metadata": {
        "id": "xP4KGdz2EjfB"
      },
      "execution_count": null,
      "outputs": []
    },
    {
      "cell_type": "code",
      "source": [
        "x = np.array([[0, 0, 1],\n",
        "              [1, 1, 1],\n",
        "              [1, 0, 1],\n",
        "              [0, 1, 1]])\n",
        "\n",
        "y = np.array([[0], [1], [1], [0]])"
      ],
      "metadata": {
        "id": "hniOkHiL_z4-"
      },
      "execution_count": 29,
      "outputs": []
    },
    {
      "cell_type": "code",
      "source": [
        "nn = NeuralNetwork(3, 4, 1, activation=\"sigmoid\")\n",
        "nn.train(x, y, 10000, 0.1)"
      ],
      "metadata": {
        "colab": {
          "base_uri": "https://localhost:8080/"
        },
        "id": "qYGR7xz-D5OW",
        "outputId": "5028c187-9df3-4789-cce5-ee77eab92614"
      },
      "execution_count": 30,
      "outputs": [
        {
          "output_type": "stream",
          "name": "stdout",
          "text": [
            "Epoch 10000/10000 - Loss: 0.00026726842676095077\n"
          ]
        }
      ]
    },
    {
      "cell_type": "code",
      "source": [
        "yp = nn.forward(x)\n",
        "\n",
        "print(yp)"
      ],
      "metadata": {
        "colab": {
          "base_uri": "https://localhost:8080/"
        },
        "id": "e-fM35LEDjY5",
        "outputId": "6b0cf969-041f-4258-826c-d6a46e663648"
      },
      "execution_count": 31,
      "outputs": [
        {
          "output_type": "stream",
          "name": "stdout",
          "text": [
            "[[0.01911877]\n",
            " [0.98318728]\n",
            " [0.98534313]\n",
            " [0.01435022]]\n"
          ]
        }
      ]
    },
    {
      "cell_type": "code",
      "source": [
        "import matplotlib.pyplot as plt\n",
        "\n",
        "x_sin = np.linspace(-2 * np.pi, 2 * np.pi, 100).reshape(-1, 1)\n",
        "y = np.sin(x_sin) + 0.1 * np.random.randn(*x_sin.shape)  # sine function with noise\n"
      ],
      "metadata": {
        "id": "d-EXzMrfBlnJ"
      },
      "execution_count": 32,
      "outputs": []
    },
    {
      "cell_type": "code",
      "source": [
        "nn_tanh = NeuralNetwork(1, 10, 1, activation=\"tanh\")\n",
        "nn_tanh.train(x_sin, y, 100000, 0.001)"
      ],
      "metadata": {
        "colab": {
          "base_uri": "https://localhost:8080/"
        },
        "id": "KgYpt9VSCfwR",
        "outputId": "fddef499-f686-4b99-c82f-a986fdc84039"
      },
      "execution_count": 33,
      "outputs": [
        {
          "output_type": "stream",
          "name": "stdout",
          "text": [
            "Epoch 10000/100000 - Loss: 0.05135755308101775\n",
            "Epoch 20000/100000 - Loss: 0.04987065626072877\n",
            "Epoch 30000/100000 - Loss: 0.054899363569668964\n",
            "Epoch 40000/100000 - Loss: 0.059150851193358146\n",
            "Epoch 50000/100000 - Loss: 0.06197285267389841\n",
            "Epoch 60000/100000 - Loss: 0.03970294378781122\n",
            "Epoch 70000/100000 - Loss: 0.03597607327237992\n",
            "Epoch 80000/100000 - Loss: 0.03606542184361232\n",
            "Epoch 90000/100000 - Loss: 0.03733030616018818\n",
            "Epoch 100000/100000 - Loss: 0.03819233723514179\n"
          ]
        }
      ]
    },
    {
      "cell_type": "code",
      "source": [
        "y_pred_tanh = nn_tanh.forward(x_sin)"
      ],
      "metadata": {
        "id": "EaEzpunDCfzL"
      },
      "execution_count": 34,
      "outputs": []
    },
    {
      "cell_type": "code",
      "source": [
        "plt.figure(figsize=(5, 4))\n",
        "plt.scatter(x_sin, y, alpha=0.6)\n",
        "plt.plot(x_sin, y_pred_tanh, color=\"red\")\n",
        "plt.legend()\n",
        "plt.show()"
      ],
      "metadata": {
        "colab": {
          "base_uri": "https://localhost:8080/",
          "height": 424
        },
        "id": "eKgmWS7VCpx7",
        "outputId": "25637de0-ffb3-4cc1-a632-7a7731890aac"
      },
      "execution_count": 39,
      "outputs": [
        {
          "output_type": "stream",
          "name": "stderr",
          "text": [
            "<ipython-input-39-7b5d7193e083>:4: UserWarning: No artists with labels found to put in legend.  Note that artists whose label start with an underscore are ignored when legend() is called with no argument.\n",
            "  plt.legend()\n"
          ]
        },
        {
          "output_type": "display_data",
          "data": {
            "text/plain": [
              "<Figure size 500x400 with 1 Axes>"
            ],
            "image/png": "[encoded data removed]"
          },
          "metadata": {}
        }
      ]
    },
    {
      "cell_type": "code",
      "source": [],
      "metadata": {
        "id": "Icr-4tSVCqPX"
      },
      "execution_count": null,
      "outputs": []
    }
  ]
}